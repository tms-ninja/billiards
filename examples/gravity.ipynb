{
 "cells": [
  {
   "cell_type": "markdown",
   "id": "556d9636-5a57-4350-b852-86429b9d298a",
   "metadata": {},
   "source": [
    "# Gravity\n",
    "In this notebook, we look at how gravity affects system properties such as number density and temperature."
   ]
  },
  {
   "cell_type": "code",
   "execution_count": null,
   "id": "a957b3b8-af86-4eef-a3d6-14daacb08dc4",
   "metadata": {},
   "outputs": [],
   "source": [
    "import numpy as np\n",
    "import matplotlib.pyplot as plt\n",
    "from matplotlib.collections import EllipseCollection\n",
    "from scipy.optimize import minimize\n",
    "\n",
    "import billiards as bl"
   ]
  },
  {
   "cell_type": "code",
   "execution_count": null,
   "id": "83559d4b-21ee-4f45-8adb-d795679d1129",
   "metadata": {},
   "outputs": [],
   "source": [
    "# Setup the simulation\n",
    "L = 400.0  # Simulation width\n",
    "bottom_left = np.array([-L/2, -L/2])\n",
    "top_right = np.array([L/2, L/2])\n",
    "\n",
    "sim = bl.PySim(bottom_left, top_right, 190, 190)\n",
    "sim.g = np.array([0.0, -0.04])\n",
    "\n",
    "# Number, speed, masses, radii of discs\n",
    "N_discs = 10_000\n",
    "v = 2.0\n",
    "m = 1.0\n",
    "R = 1.0\n",
    "\n",
    "sim.add_random_discs(bottom_left, top_right, N_discs, m, R, v=v, pos_allocation='grid')"
   ]
  },
  {
   "cell_type": "code",
   "execution_count": null,
   "id": "8b2dde5a-2a12-4307-b7bc-cd7c3f1f4ea7",
   "metadata": {
    "jupyter": {
     "source_hidden": true
    }
   },
   "outputs": [],
   "source": [
    "# Plot the initial state\n",
    "def create_state_plot(cur_pos, R, bottom_left, top_right):\n",
    "    fig = plt.figure(figsize=(8, 8))\n",
    "    ax = plt.gca()\n",
    "    \n",
    "    xlim = [bottom_left[0], top_right[0]]\n",
    "    ylim = [bottom_left[1], top_right[1]]\n",
    "    plt.xlim(xlim)\n",
    "    plt.ylim(ylim)\n",
    "\n",
    "    # Use EllipseCollection instead of scatter as discs will definitely be the correct size\n",
    "    # Like scatter we can only use EllispeCollection in an non-interactive context\n",
    "    # Note Ellipses are defined in terms of width/height so we must double the radius\n",
    "    ellipse_col = EllipseCollection(widths=2*R, \n",
    "                                    heights=2*R, \n",
    "                                    angles=0.0, \n",
    "                                    units='x',\n",
    "                                    offsets=cur_pos,\n",
    "                                    offset_transform=ax.transData, \n",
    "                                    alpha=0.5)\n",
    "\n",
    "    ax.add_collection(ellipse_col)\n",
    "    \n",
    "    ax.set_aspect('equal')\n",
    "    plt.xlabel(\"x\")\n",
    "    plt.ylabel(\"y\", rotation=0)"
   ]
  },
  {
   "cell_type": "markdown",
   "id": "68e5fbbb-d595-4f69-9a0d-f4bc3483be53",
   "metadata": {},
   "source": [
    "We first advance the simulation so that is (hopefully) has reached equilibrium. We then advance in small intervals and record the current state."
   ]
  },
  {
   "cell_type": "code",
   "execution_count": null,
   "id": "6b8eb43a-adb4-4c1e-80a4-89197e256c3b",
   "metadata": {},
   "outputs": [],
   "source": [
    "# Run the simulation for a bit, only interested in the final state, so no need to record events\n",
    "sim.advance(10_000_000, 10000.0, False)\n",
    "print(f\"Simulation ended at {sim.current_time}\")"
   ]
  },
  {
   "cell_type": "code",
   "execution_count": null,
   "id": "2fa25095-aade-4de4-b12c-0eb80e28b1e4",
   "metadata": {},
   "outputs": [],
   "source": [
    "N_intervals = 20\n",
    "t_interval = 5.0\n",
    "t_events = 200_000 # enough so we should advance at least t_interval\n",
    "state_dict = {\n",
    "    'r_cor': np.empty((N_intervals, N_discs, 2), dtype=np.float64),\n",
    "    'v_cor': np.empty((N_intervals, N_discs, 2), dtype=np.float64),\n",
    "    't': np.empty(N_intervals, dtype=np.float64),\n",
    "}\n",
    "\n",
    "# Advance the simulation\n",
    "for ind in range(N_intervals):\n",
    "    sim.advance(t_events, sim.current_time+t_interval, False)\n",
    "    \n",
    "    cur_state = sim.current_state\n",
    "    cur_t = cur_state['t']\n",
    "    \n",
    "    # add it to our list\n",
    "    state_dict['r_cor'][ind] = cur_state['r_cor']\n",
    "    state_dict['v_cor'][ind] = cur_state['v_cor']\n",
    "    state_dict['t'][ind] = sim.current_time\n",
    "\n",
    "# Get flatteneds array of samples\n",
    "r_samples = state_dict['r_cor']\n",
    "r_samples = r_samples.reshape(-1, r_samples.shape[-1])\n",
    "v_samples = state_dict['v_cor']\n",
    "v_samples = v_samples.reshape(-1, v_samples.shape[-1])"
   ]
  },
  {
   "cell_type": "markdown",
   "id": "21d297f0-d727-40f1-80b6-23a79f97d688",
   "metadata": {},
   "source": [
    "Let's plot the current state to see how the inclusion of gravity has affected the simulation"
   ]
  },
  {
   "cell_type": "code",
   "execution_count": null,
   "id": "19b50daa-ec42-479d-a059-671210f2a2c3",
   "metadata": {},
   "outputs": [],
   "source": [
    "cur_state = sim.current_state\n",
    "cur_R = cur_state['R']\n",
    "\n",
    "cur_pos = state_dict['r_cor'][-1]\n",
    "cur_v = state_dict['v_cor'][-1]\n",
    "\n",
    "_ = create_state_plot(cur_pos, cur_R, bottom_left, top_right)"
   ]
  },
  {
   "cell_type": "markdown",
   "id": "41f17d25-094c-4810-afb6-2e2989f42204",
   "metadata": {},
   "source": [
    "Now we consider the speed distribution and estimate the temeprature."
   ]
  },
  {
   "cell_type": "code",
   "execution_count": null,
   "id": "fc4f87b2-3aac-4687-839d-edf8427a8247",
   "metadata": {},
   "outputs": [],
   "source": [
    "def get_kB_Tfrom_dist(speeds):\n",
    "    \"\"\"Estimates kB_T from an array of speeds\"\"\"\n",
    "\n",
    "    bin_vals, bins = np.histogram(speeds, bins=10, density=True)\n",
    "\n",
    "    def opt_f(kB_T):\n",
    "        int_prob = np.exp(-m/(2*kB_T)*bins**2)\n",
    "        \n",
    "        diff = int_prob[:-1] - int_prob[1:]\n",
    "\n",
    "        bin_areas = bin_vals*(bins[1:]-bins[:-1])\n",
    "\n",
    "        return np.sum((diff - bin_areas)**2)\n",
    "        \n",
    "    return minimize(opt_f, 2.0)"
   ]
  },
  {
   "cell_type": "code",
   "execution_count": null,
   "id": "77901587-ec4e-48b6-a6bb-fa31dac51b8d",
   "metadata": {},
   "outputs": [],
   "source": [
    "# Flatten array along first axis\n",
    "v_samples = state_dict['v_cor']\n",
    "speeds = v_samples.reshape(-1, v_samples.shape[-1])\n",
    "speeds = np.linalg.norm(speeds, axis=1)"
   ]
  },
  {
   "cell_type": "code",
   "execution_count": null,
   "id": "36b323eb-6c0f-4803-9613-8180ca9cb390",
   "metadata": {},
   "outputs": [],
   "source": [
    "kB_T = get_kB_Tfrom_dist(speeds)['x'][0]\n",
    "\n",
    "bin_vals, bins, _ = plt.hist(speeds, bins=50, density=True, label=\"Simulation\")\n",
    "\n",
    "speeds_arr = np.linspace(0.0, bins[-1], 1000)\n",
    "exp_dist = m*speeds_arr/kB_T * np.exp(-(m/(2*kB_T)) * speeds_arr**2)\n",
    "\n",
    "plt.plot(speeds_arr, exp_dist, label=f\"$k_B T$={kB_T:.3f}\")\n",
    "\n",
    "plt.xlabel(\"$v$\")\n",
    "plt.ylabel(\"Probability density\")\n",
    "\n",
    "plt.legend()\n",
    "plt.tight_layout()\n",
    "plt.show()"
   ]
  },
  {
   "cell_type": "markdown",
   "id": "c7d0211e-9294-4266-9639-2484034cad47",
   "metadata": {},
   "source": [
    "Now we explore how particle number density varies with height. "
   ]
  },
  {
   "cell_type": "code",
   "execution_count": null,
   "id": "7a5dd126-9254-483e-a550-0d3734014a49",
   "metadata": {},
   "outputs": [],
   "source": [
    "bin_vals, bins, _ = plt.hist(r_samples[:, 1], bins='auto', density=True)\n",
    "\n",
    "plt.xlabel(\"$y$\")\n",
    "plt.ylabel(\"$N$\")\n",
    "plt.tight_layout()\n",
    "plt.show()"
   ]
  },
  {
   "cell_type": "code",
   "execution_count": null,
   "id": "d180f1ba-a8a4-4f8c-88ab-ac06795b1150",
   "metadata": {},
   "outputs": [],
   "source": []
  }
 ],
 "metadata": {
  "kernelspec": {
   "display_name": "Python 3 (ipykernel)",
   "language": "python",
   "name": "python3"
  },
  "language_info": {
   "codemirror_mode": {
    "name": "ipython",
    "version": 3
   },
   "file_extension": ".py",
   "mimetype": "text/x-python",
   "name": "python",
   "nbconvert_exporter": "python",
   "pygments_lexer": "ipython3",
   "version": "3.11.2"
  }
 },
 "nbformat": 4,
 "nbformat_minor": 5
}
