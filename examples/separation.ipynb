{
 "cells": [
  {
   "cell_type": "markdown",
   "id": "3b111243",
   "metadata": {},
   "source": [
    "# Separation\n",
    "In this notebook we look at how gravity separates a mixture of two kinds of discs of differening masses. The discs are initially mixed and start with the same speed (but travelling in differing directions)."
   ]
  },
  {
   "cell_type": "code",
   "execution_count": null,
   "id": "6159a6fb",
   "metadata": {},
   "outputs": [],
   "source": [
    "import numpy as np\n",
    "import matplotlib.pyplot as plt\n",
    "from matplotlib.collections import EllipseCollection\n",
    "from matplotlib.patches import Circle\n",
    "import billiards as bl"
   ]
  },
  {
   "cell_type": "code",
   "execution_count": null,
   "id": "07f98fa7",
   "metadata": {},
   "outputs": [],
   "source": [
    "# Setup the simulation\n",
    "L = 300.0  # Simulation width\n",
    "bottom_left = np.array([-L/2, -L/2])\n",
    "top_right = np.array([L/2, L/2])\n",
    "\n",
    "sim = bl.PySim(bottom_left, top_right, 149, 149)\n",
    "\n",
    "# Set gravity\n",
    "sim.g = np.array([0.0, -0.1])\n",
    "\n",
    "# Number, speed, masses, radii of discs\n",
    "N_discs = 10_000\n",
    "v = 1.0\n",
    "R = 1.0\n",
    "\n",
    "# Generate the masses of the discs\n",
    "N1 = 5_000\n",
    "N2 = N_discs - N1\n",
    "m1, m2 = 1.0, 10.0\n",
    "m = np.concatenate((np.full(N1, m1), np.full(N2, m2)))\n",
    "\n",
    "rng = np.random.default_rng(10)\n",
    "rng.shuffle(m)\n",
    "\n",
    "sim.add_random_discs(bottom_left, top_right, N_discs, m, R, v=v, pos_allocation='grid')"
   ]
  },
  {
   "cell_type": "markdown",
   "id": "daafb4ca-fe19-407e-90c2-0f0f06925e1f",
   "metadata": {},
   "source": [
    "Create a plot showing initial locations of all discs"
   ]
  },
  {
   "cell_type": "code",
   "execution_count": null,
   "id": "3f488008-2d06-4836-b8c2-85dedfdce781",
   "metadata": {},
   "outputs": [],
   "source": [
    "def create_state_plot(cur_pos):\n",
    "    fig = plt.figure(figsize=(8, 8))\n",
    "    ax = plt.gca()\n",
    "    \n",
    "    plt.xlim(bottom_left[0], top_right[0])\n",
    "    plt.ylim(bottom_left[1], top_right[1])\n",
    "\n",
    "    colors = ['tab:blue', 'tab:orange']\n",
    "    handles = []\n",
    "    alpha = 0.5    \n",
    "    \n",
    "    for mass, color in zip([m1, m2], colors):\n",
    "        ellipse_col = EllipseCollection(widths=2*R, \n",
    "                                    heights=2*R, \n",
    "                                    angles=0.0, \n",
    "                                    units='x',\n",
    "                                    offsets=cur_pos[m==mass],\n",
    "                                    offset_transform=ax.transData, \n",
    "                                    alpha=alpha,\n",
    "                                    facecolor=color)\n",
    "\n",
    "        handles.append(Circle((0, 0), color=color, alpha=alpha, label=f\"m={mass}\"))\n",
    "\n",
    "        ax.add_collection(ellipse_col)\n",
    "    \n",
    "    plt.legend(handles=handles, loc='upper right')\n",
    "\n",
    "    return ax"
   ]
  },
  {
   "cell_type": "code",
   "execution_count": null,
   "id": "83d4495d-4fcb-4c99-ad47-7f76724ec7e6",
   "metadata": {},
   "outputs": [],
   "source": [
    "initial_pos = sim.initial_state['r']\n",
    "_ = create_state_plot(initial_pos)"
   ]
  },
  {
   "cell_type": "markdown",
   "id": "b7c994e5-f881-47ae-b4c4-1f24df5e6268",
   "metadata": {},
   "source": [
    "Now look at the state after some time has passed. Note this may take 10-15 minutes to compute."
   ]
  },
  {
   "cell_type": "code",
   "execution_count": null,
   "id": "a8e22395",
   "metadata": {},
   "outputs": [],
   "source": [
    "# Run the simulation for a bit, only interested in the final state, so no need to record events\n",
    "sim.advance(75_000_000, 10000.0, False)\n",
    "print(f\"Simulation ended at {sim.current_time}\")"
   ]
  },
  {
   "cell_type": "code",
   "execution_count": null,
   "id": "e852a7a4-15d0-436f-b98f-6978013cf794",
   "metadata": {},
   "outputs": [],
   "source": [
    "cur_state = sim.current_state\n",
    "_ = create_state_plot(cur_state['r_cor'])"
   ]
  },
  {
   "cell_type": "markdown",
   "id": "abb7dc78-0ec8-49a2-a09f-dc69b2898326",
   "metadata": {},
   "source": [
    "We can now look how the number of each species varies with height."
   ]
  },
  {
   "cell_type": "code",
   "execution_count": null,
   "id": "4640fe09-ac58-4497-b871-4eade81762c3",
   "metadata": {},
   "outputs": [],
   "source": [
    "bins = np.linspace(-L/2, L/2, 11)\n",
    "disc_pos = cur_state['r_cor']\n",
    "\n",
    "fig, axs = plt.subplots(2, 1, sharex=True)\n",
    "fig.subplots_adjust(hspace=0)\n",
    "\n",
    "\n",
    "N_disc_y = []\n",
    "\n",
    "for m_ind, mass in enumerate([m1, m2]):\n",
    "    n, _, _ = axs[m_ind].hist(disc_pos[m==mass, 1], bins)\n",
    "    N_disc_y.append(n)\n",
    "\n",
    "plt.xlabel(\"$y$\")\n",
    "axs[0].set(ylabel=\"$n_1$\")\n",
    "axs[1].set(ylabel=\"$n_2$\")\n",
    "\n",
    "\n",
    "plt.show()"
   ]
  },
  {
   "cell_type": "code",
   "execution_count": null,
   "id": "969a012c-fdb0-4adc-b309-2120354176be",
   "metadata": {},
   "outputs": [],
   "source": [
    "total = N_disc_y[0] + N_disc_y[1]\n",
    "above = N_disc_y[0] / total\n",
    "below = N_disc_y[1] / total\n",
    "\n",
    "pos_dict = {\n",
    "    m1: above,\n",
    "    m2: below,\n",
    "}"
   ]
  },
  {
   "cell_type": "code",
   "execution_count": null,
   "id": "07e99d7f-f9b8-4057-b196-ad4e41e5fad2",
   "metadata": {},
   "outputs": [],
   "source": [
    "fig, ax = plt.subplots()\n",
    "bottom = np.zeros(bins.shape[0]-1)\n",
    "\n",
    "for mass, weights in pos_dict.items():\n",
    "    ax.bar(bins[:-1]+20.0, weights, width=40.0, label=mass, bottom=bottom)\n",
    "    bottom += weights\n",
    "\n",
    "plt.xlabel(\"y\")\n",
    "plt.ylabel(\"Fraction of each species\")\n",
    "plt.legend(loc='lower right')\n",
    "plt.show()"
   ]
  },
  {
   "cell_type": "code",
   "execution_count": null,
   "id": "fca25440-ab0b-4607-a30d-19d1801520cd",
   "metadata": {},
   "outputs": [],
   "source": []
  }
 ],
 "metadata": {
  "kernelspec": {
   "display_name": "Python 3 (ipykernel)",
   "language": "python",
   "name": "python3"
  },
  "language_info": {
   "codemirror_mode": {
    "name": "ipython",
    "version": 3
   },
   "file_extension": ".py",
   "mimetype": "text/x-python",
   "name": "python",
   "nbconvert_exporter": "python",
   "pygments_lexer": "ipython3",
   "version": "3.11.2"
  }
 },
 "nbformat": 4,
 "nbformat_minor": 5
}
