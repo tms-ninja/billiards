{
 "cells": [
  {
   "cell_type": "markdown",
   "id": "a7c7458c",
   "metadata": {},
   "source": [
    "# Buoyancy\n",
    "In this notebook we explore how a large disc in a 'fluid' of smaller discs behaves under gravity. We see the large disc floats or sinks depending on its density relative to that of the fluid."
   ]
  },
  {
   "cell_type": "code",
   "execution_count": null,
   "id": "eb557613",
   "metadata": {},
   "outputs": [],
   "source": [
    "import multiprocessing\n",
    "\n",
    "import numpy as np\n",
    "import matplotlib.pyplot as plt\n",
    "from matplotlib import cm, colormaps, colors\n",
    "\n",
    "from buoyancy_worker import test_buoyancy"
   ]
  },
  {
   "cell_type": "code",
   "execution_count": null,
   "id": "63205810-b65d-40e5-8a4d-3429d7c6a773",
   "metadata": {},
   "outputs": [],
   "source": [
    "# Plot the initial state\n",
    "def create_state_plot(cur_pos, R, bottom_left, top_right):\n",
    "    fig = plt.figure(figsize=(8, 8))\n",
    "    ax = plt.gca()\n",
    "    \n",
    "    xlim = [bottom_left[0], top_right[0]]\n",
    "    ylim = [bottom_left[1], top_right[1]]\n",
    "    plt.xlim(xlim)\n",
    "    plt.ylim(ylim)\n",
    "    \n",
    "    bbox = ax.get_window_extent().transformed(fig.dpi_scale_trans.inverted())\n",
    "    width_in_points = bbox.width * 72\n",
    "    \n",
    "    s = 4 * ( width_in_points * R/(xlim[1] - xlim[0])) ** 2\n",
    "    plt.scatter(cur_pos[:, 0], cur_pos[:, 1], s=s, alpha=0.5)\n",
    "    \n",
    "    ax.set_aspect('equal')\n",
    "    plt.xlabel(\"x\")\n",
    "    plt.ylabel(\"y\", rotation=0)\n",
    "    #return ax"
   ]
  },
  {
   "cell_type": "markdown",
   "id": "1e5db6c0-7c8d-47f4-a533-9de18fbcbbbc",
   "metadata": {},
   "source": [
    "## Single disc\n",
    "Let's first look at the path of a single disc to understand how simulations are setup."
   ]
  },
  {
   "cell_type": "code",
   "execution_count": null,
   "id": "e2dfdefc-9fc0-43f7-a551-2391caa1f0ae",
   "metadata": {},
   "outputs": [],
   "source": [
    "sim_prop, t, pos = test_buoyancy(0.1)"
   ]
  },
  {
   "cell_type": "markdown",
   "id": "9a12d36d-e60f-4ef1-acc4-e4a2f6f6879b",
   "metadata": {},
   "source": [
    "First let's look at the initial and final positions of all discs"
   ]
  },
  {
   "cell_type": "code",
   "execution_count": null,
   "id": "7095aabb-7ce5-4d19-ae34-9fa8cf35fd14",
   "metadata": {},
   "outputs": [],
   "source": [
    "create_state_plot(sim_prop.initial_state['r'], sim_prop.initial_state['R'], sim_prop.bottom_left, sim_prop.top_right)"
   ]
  },
  {
   "cell_type": "code",
   "execution_count": null,
   "id": "763e74f1-2579-451d-a175-b3dd1d08cb4e",
   "metadata": {},
   "outputs": [],
   "source": [
    "cur_state = sim_prop.get_corrected_current_state()\n",
    "create_state_plot(cur_state['r_cor'], cur_state['R'], sim_prop.bottom_left, sim_prop.top_right)"
   ]
  },
  {
   "cell_type": "markdown",
   "id": "1a977a83-2f28-44bd-9665-3787893232ab",
   "metadata": {},
   "source": [
    "Now let's look at the path of the large disc"
   ]
  },
  {
   "cell_type": "code",
   "execution_count": null,
   "id": "a5ab1dd0-de02-437a-a856-3f3ea69ce992",
   "metadata": {},
   "outputs": [],
   "source": [
    "fig, ax = plt.subplots()\n",
    "\n",
    "cmap = colormaps['viridis']\n",
    "norm = colors.Normalize(t[0], t[-1])\n",
    "\n",
    "ax.scatter(pos[:, 0], pos[:, 1], s=2.0, c=cmap(norm(t)))\n",
    "\n",
    "cbar = fig.colorbar(cm.ScalarMappable(cmap=cmap, norm=norm), ax=ax)\n",
    "cbar.ax.set_ylabel(\"t\", rotation=0)\n",
    "\n",
    "ax.set_aspect('equal')\n",
    "plt.xlabel(\"x\")\n",
    "plt.ylabel(\"y\", rotation=0)\n",
    "plt.tight_layout()\n",
    "plt.show()"
   ]
  },
  {
   "cell_type": "markdown",
   "id": "980f30f1-e019-4dce-927e-9a1c5c7c000c",
   "metadata": {},
   "source": [
    "## Effect of density of the large disc under gravity\n",
    "We now look at how the behaviour of the large disc depends on its density. This might take a few minutes to run"
   ]
  },
  {
   "cell_type": "code",
   "execution_count": null,
   "id": "eb31f270-f542-4117-8ab5-0ff30b739d1f",
   "metadata": {},
   "outputs": [],
   "source": [
    "rho = np.linspace(0.05, 0.5, 32)\n",
    "\n",
    "with multiprocessing.Pool() as pool:\n",
    "    large_disc_props = pool.map(test_buoyancy, rho)"
   ]
  },
  {
   "cell_type": "code",
   "execution_count": null,
   "id": "5db8a6ec-6e4b-4ad2-8227-c3cbccaafffb",
   "metadata": {},
   "outputs": [],
   "source": [
    "# Estimate the density of the 'fluid'\n",
    "sim_prop = large_disc_props[0][0]\n",
    "big_disc_R = sim_prop.initial_state['R'][0]\n",
    "fluid_area = np.product(sim_prop.top_right - sim_prop.bottom_left) - np.pi*big_disc_R**2\n",
    "fluid_mass = np.sum(sim_prop.initial_state['m'][1:])\n",
    "\n",
    "rho_fluid = fluid_mass/fluid_area\n",
    "print(f\"Estimated fluid density is: {rho_fluid}\")"
   ]
  },
  {
   "cell_type": "markdown",
   "id": "bd2b108c-d822-4a7a-aca7-0a67441937fc",
   "metadata": {},
   "source": [
    "Now let's look at the paths each disc followed and their vertical position over time"
   ]
  },
  {
   "cell_type": "code",
   "execution_count": null,
   "id": "a8e3c92a-2777-4d16-8292-d38613898f7f",
   "metadata": {},
   "outputs": [],
   "source": [
    "fig, ax = plt.subplots()\n",
    "\n",
    "cmap = colormaps['viridis_r']\n",
    "norm = colors.Normalize(rho[0]/rho_fluid, rho[-1]/rho_fluid)\n",
    "\n",
    "for density, disc_props in zip(rho, large_disc_props):\n",
    "    _, t, pos = disc_props\n",
    "    ax.plot(pos[:, 0], pos[:, 1], c=cmap(norm(density/rho_fluid)), linewidth=1.0)\n",
    "\n",
    "fig.colorbar(cm.ScalarMappable(cmap=cmap, norm=norm), ax=ax, label=\"Density relative to fluid\")\n",
    "ax.set_aspect('equal')\n",
    "plt.xlabel(\"x\")\n",
    "plt.ylabel(\"y\", rotation=0)\n",
    "plt.tight_layout()\n",
    "plt.show()"
   ]
  },
  {
   "cell_type": "code",
   "execution_count": null,
   "id": "3e66806f-a3dd-4236-a799-7de422490be3",
   "metadata": {},
   "outputs": [],
   "source": [
    "fig, ax = plt.subplots()\n",
    "\n",
    "cmap = colormaps['viridis_r']\n",
    "norm = colors.Normalize(rho[0]/rho_fluid, rho[-1]/rho_fluid)\n",
    "\n",
    "for density, disc_props in zip(rho, large_disc_props):\n",
    "    _, t, pos = disc_props\n",
    "    ax.plot(t, pos[:, 1], c=cmap(norm(density/rho_fluid)))\n",
    "\n",
    "fig.colorbar(cm.ScalarMappable(cmap=cmap, norm=norm), ax=ax, label=\"Density relative to fluid\")\n",
    "plt.xlabel(\"x\")\n",
    "plt.ylabel(\"y\", rotation=0)\n",
    "plt.tight_layout()\n",
    "plt.show()"
   ]
  },
  {
   "cell_type": "code",
   "execution_count": null,
   "id": "fe07b6e5-60c4-4639-8fb4-1e64cea56386",
   "metadata": {},
   "outputs": [],
   "source": []
  },
  {
   "cell_type": "code",
   "execution_count": null,
   "id": "0bcdd617-3044-4c96-97f7-05a52b4c6e7e",
   "metadata": {},
   "outputs": [],
   "source": []
  }
 ],
 "metadata": {
  "kernelspec": {
   "display_name": "Python 3 (ipykernel)",
   "language": "python",
   "name": "python3"
  },
  "language_info": {
   "codemirror_mode": {
    "name": "ipython",
    "version": 3
   },
   "file_extension": ".py",
   "mimetype": "text/x-python",
   "name": "python",
   "nbconvert_exporter": "python",
   "pygments_lexer": "ipython3",
   "version": "3.10.6"
  }
 },
 "nbformat": 4,
 "nbformat_minor": 5
}
