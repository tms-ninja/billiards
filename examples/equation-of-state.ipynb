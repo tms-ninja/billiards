{
 "cells": [
  {
   "cell_type": "markdown",
   "metadata": {},
   "source": [
    "# Equation of state\n",
    "In this notebook, we examine the equation of state for the simulated gas relating gas' pressure, temperature and number density. We do not expect it to obey the ideal gas as the discs possess finite size. Instead we approximate the equation of state using the virial expansion,\n",
    "$$\n",
    "P\n",
    "=\n",
    "n k_B T \\left(\n",
    "    1 \n",
    "    +\n",
    "    2 (nA) \n",
    "    +\n",
    "    \\left(\n",
    "        \\frac{16}{3} - \\frac{4 \\sqrt{3}}{\\pi}\n",
    "    \\right) (nA)^2\n",
    "    +\n",
    "    \\left(\n",
    "        16 - \\frac{36 \\sqrt{3}}{\\pi} + \\frac{80}{\\pi^2}\n",
    "    \\right) (nA)^3\n",
    "    +\n",
    "    ...\n",
    "\\right),\n",
    "$$\n",
    "where $A= \\pi R^2$ is the area of each disc."
   ]
  },
  {
   "cell_type": "code",
   "execution_count": 1,
   "metadata": {},
   "outputs": [],
   "source": [
    "import numpy as np\n",
    "import matplotlib.pyplot as plt\n",
    "import billiards as bl"
   ]
  },
  {
   "cell_type": "code",
   "execution_count": 2,
   "metadata": {},
   "outputs": [],
   "source": [
    "def compute_sim_pressure(sim, bottom_left, top_right):\n",
    "    \"\"\"Computes the pressure using the simulation provided\"\"\"\n",
    "\n",
    "    cur_v = sim.initial_state['v']\n",
    "    masses = sim.initial_state['m']\n",
    "    total_dP = 0.0  # total change in momentum\n",
    "    \n",
    "    for e in sim.events:\n",
    "        if e.disc_wall_col==bl.PyCol_Type.Disc_Wall:\n",
    "            \n",
    "            dv = e.new_v - cur_v[e.ind]\n",
    "            \n",
    "            total_dP += masses[e.ind] * np.linalg.norm(dv)\n",
    "        \n",
    "        cur_v[e.ind] = e.new_v\n",
    "\n",
    "    # Pressure if total change in momentum / time over which momentum change occured / \"area\" of box's surface\n",
    "    dt = sim.events[-1].t - sim.events[0].t\n",
    "    A = 2*np.sum(top_right - bottom_left)  # As we're in 2d, the \"area\" is really perimeter of box\n",
    "    \n",
    "    return total_dP / (dt * A)"
   ]
  },
  {
   "cell_type": "code",
   "execution_count": 3,
   "metadata": {},
   "outputs": [],
   "source": [
    "def measure_pressure(n, kB_T, R):\n",
    "    \"\"\"\n",
    "    Determines the pressure for a gas with number density n and temperature T by running a simulation\n",
    "    \"\"\"\n",
    "    \n",
    "    # Number, speed, masses, radii of discs\n",
    "    N_discs = 2500\n",
    "    v = 1.0\n",
    "    m = 1.0\n",
    "    \n",
    "    # Setup the simulation\n",
    "    L = np.sqrt(N_discs / n)  # Simulation width\n",
    "    bottom_left = np.array([-L/2, -L/2])\n",
    "    top_right = np.array([L/2, L/2])\n",
    "\n",
    "    sim = bl.PySim(bottom_left, top_right, 49, 49)\n",
    "\n",
    "    sim.add_random_discs(bottom_left, top_right, N_discs, m, R, kB_T=kB_T, pos_allocation='grid')\n",
    "    \n",
    "    sim.advance(100000, 10000.0, True)\n",
    "    \n",
    "    return compute_sim_pressure(sim, bottom_left, top_right)"
   ]
  },
  {
   "cell_type": "markdown",
   "metadata": {},
   "source": [
    "## Pressure vs temperature\n",
    "Now determine the relationship between pressure and temperature."
   ]
  },
  {
   "cell_type": "code",
   "execution_count": 19,
   "metadata": {},
   "outputs": [],
   "source": [
    "def test_P_T_relationship(kB_T, n):\n",
    "    \"\"\"Runs a simulation to determine the pressure for the given T values & n\"\"\"\n",
    "    R = 1.0\n",
    "    \n",
    "    sim_pressure = [measure_pressure(n, T, R) for T in kB_T]\n",
    "        \n",
    "    # Area of single disc in simulation\n",
    "    A = np.pi*1.0**2\n",
    "    \n",
    "    # coefficients in virial expansion\n",
    "    b2 = 2*A\n",
    "    b3 = ((16.0/3.0) - 4*np.sqrt(3.0)//np.pi) * A**2\n",
    "    b4 = (16.0 - 36*np.sqrt(3)/np.pi + 80/np.pi**2) * A**3\n",
    "    \n",
    "    expected_pressure_func = lambda T: n*T *(1 + b2*n + b3*n**2 + b4*n**3)\n",
    "    \n",
    "    return sim_pressure, expected_pressure_func"
   ]
  },
  {
   "cell_type": "code",
   "execution_count": 20,
   "metadata": {},
   "outputs": [],
   "source": [
    "test_temp = np.linspace(0.01, 1.0, 11)  # Really kB_T\n",
    "\n",
    "sim_pressure, expected_pressure_func = test_P_T_relationship(test_temp, n=0.01)\n",
    "\n",
    "pred_temp = np.linspace(test_temp[0], test_temp[-1], 1000)\n",
    "pred_pressure = expected_pressure_func(pred_temp)\n",
    "\n",
    "pred_pressure_at_samples = expected_pressure_func(test_temp)"
   ]
  },
  {
   "cell_type": "code",
   "execution_count": 21,
   "metadata": {},
   "outputs": [
    {
     "data": {
      "image/png": "[encoded data removed]",
      "text/plain": [
       "<Figure size 432x288 with 2 Axes>"
      ]
     },
     "metadata": {
      "needs_background": "light"
     },
     "output_type": "display_data"
    }
   ],
   "source": [
    "# Create plot\n",
    "fig, (ax1, ax2) = plt.subplots(2, 1, gridspec_kw={'height_ratios': [2, 1], 'hspace': 0}, sharex=True)\n",
    "\n",
    "ax1.plot(pred_temp, pred_pressure, label=\"Predicted\")\n",
    "ax1.plot(test_temp, sim_pressure, 'o', label=\"Simulation\")\n",
    "\n",
    "ax2.plot(test_temp, (sim_pressure - pred_pressure_at_samples) / pred_pressure_at_samples, 'o')\n",
    "\n",
    "ax2.set_xlabel(\"$k_B T$\")\n",
    "ax1.set_ylabel(\"$P$\")\n",
    "ax2.set_ylabel(\"Residual\")\n",
    "\n",
    "ax1.legend()\n",
    "\n",
    "plt.tight_layout()\n",
    "plt.show()"
   ]
  },
  {
   "cell_type": "markdown",
   "metadata": {},
   "source": [
    "## Pressure vs number density\n",
    "Now determine the relationship between pressure and number density."
   ]
  },
  {
   "cell_type": "code",
   "execution_count": 14,
   "metadata": {},
   "outputs": [],
   "source": [
    "def test_P_n_relationship(kB_T, n):\n",
    "    \"\"\"Runs several simulations to determine the pressure for several n values given T\"\"\"\n",
    "    \n",
    "    R = 1.0\n",
    "\n",
    "    sim_pressure = [measure_pressure(n_v, kB_T, R) for n_v in n]\n",
    "    \n",
    "    # Area of single disc in simulation\n",
    "    A = np.pi*1.0**2\n",
    "    \n",
    "    # coefficients in virial expansion\n",
    "    b2 = 2*A\n",
    "    b3 = ((16.0/3.0) - 4*np.sqrt(3.0)//np.pi) * A**2\n",
    "    b4 = (16.0 - 36*np.sqrt(3)/np.pi + 80/np.pi**2) * A**3\n",
    "    \n",
    "#     expected_pressure_func = lambda n_v: n_v / (1 - n_v * 2*np.pi*R**2) * kB_T\n",
    "    expected_pressure_func = lambda n_v: n_v*kB_T * (1 + b2*n_v + b3*n_v**2 + b4*n_v**3)\n",
    "    \n",
    "    return sim_pressure, expected_pressure_func"
   ]
  },
  {
   "cell_type": "code",
   "execution_count": 15,
   "metadata": {},
   "outputs": [],
   "source": [
    "test_n = np.linspace(0.001, 0.05, 11)  # Really kB_T\n",
    "\n",
    "sim_pressure, expected_pressure_func = test_P_n_relationship(kB_T=1.0, n=test_n)\n",
    "\n",
    "pred_n = np.linspace(test_n[0], test_n[-1], 1000)\n",
    "pred_pressure = expected_pressure_func(pred_n)\n",
    "\n",
    "pred_pressure_at_samples = expected_pressure_func(test_n)"
   ]
  },
  {
   "cell_type": "code",
   "execution_count": 16,
   "metadata": {},
   "outputs": [
    {
     "data": {
      "image/png": "[encoded data removed]",
      "text/plain": [
       "<Figure size 432x288 with 2 Axes>"
      ]
     },
     "metadata": {
      "needs_background": "light"
     },
     "output_type": "display_data"
    }
   ],
   "source": [
    "# Create plot\n",
    "fig, (ax1, ax2) = plt.subplots(2, 1, gridspec_kw={'height_ratios': [2, 1], 'hspace': 0}, sharex=True)\n",
    "\n",
    "ax1.plot(pred_n, pred_pressure, label=\"Predicted\")\n",
    "ax1.plot(test_n, sim_pressure, 'o', label=\"Simulation\")\n",
    "\n",
    "ax2.plot(test_n, (sim_pressure - pred_pressure_at_samples) / pred_pressure_at_samples, 'o')\n",
    "\n",
    "ax2.set_xlabel(\"$n$\")\n",
    "ax1.set_ylabel(\"$P$\")\n",
    "ax2.set_ylabel(\"Residual\")\n",
    "\n",
    "ax1.legend()\n",
    "\n",
    "plt.tight_layout()\n",
    "plt.show()"
   ]
  },
  {
   "cell_type": "code",
   "execution_count": null,
   "metadata": {},
   "outputs": [],
   "source": []
  },
  {
   "cell_type": "code",
   "execution_count": null,
   "metadata": {},
   "outputs": [],
   "source": []
  }
 ],
 "metadata": {
  "kernelspec": {
   "display_name": "Python 3",
   "language": "python",
   "name": "python3"
  },
  "language_info": {
   "codemirror_mode": {
    "name": "ipython",
    "version": 3
   },
   "file_extension": ".py",
   "mimetype": "text/x-python",
   "name": "python",
   "nbconvert_exporter": "python",
   "pygments_lexer": "ipython3",
   "version": "3.8.5"
  }
 },
 "nbformat": 4,
 "nbformat_minor": 5
}
