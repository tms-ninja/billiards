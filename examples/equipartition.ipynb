{
 "cells": [
  {
   "cell_type": "markdown",
   "metadata": {},
   "source": [
    "# Equipartition theorem\n",
    "The equipartition theorem states that each particle should have $\\frac{1}{2} k_B T$ of energy on average for each degree of freedom it has. We start a simulation where each disc starts with the same linear speed (but in random directions) and zero angular velocity. We then see if after sufficient time each disc ends up with $\\frac{1}{2} k_B T$ of energy on average for each degree of freedom."
   ]
  },
  {
   "cell_type": "code",
   "execution_count": 1,
   "metadata": {},
   "outputs": [],
   "source": [
    "import numpy as np\n",
    "import matplotlib.pyplot as plt\n",
    "import billiards as bl"
   ]
  },
  {
   "cell_type": "code",
   "execution_count": 2,
   "metadata": {},
   "outputs": [],
   "source": [
    "# Setup the simulation\n",
    "L = 400.0  # Simulation width\n",
    "bottom_left = np.array([-L/2, -L/2])\n",
    "top_right = np.array([L/2, L/2])\n",
    "\n",
    "sim = bl.PySim(bottom_left, top_right, 49, 49)\n",
    "sim.e_t = 1.0  # Allow discs to rotate\n",
    "\n",
    "# Number, speed, masses, radii of discs\n",
    "N_discs = 10_000\n",
    "v = 1.0\n",
    "m = 1.0\n",
    "R = 1.0\n",
    "\n",
    "# Compute the expected temprature\n",
    "kB_T = m*v**2 / 3.0\n",
    "\n",
    "sim.add_random_discs(bottom_left, top_right, N_discs, m, R, v=v, pos_allocation='grid')"
   ]
  },
  {
   "cell_type": "code",
   "execution_count": 3,
   "metadata": {},
   "outputs": [],
   "source": [
    "sim.advance(75_000, 50.0, True)"
   ]
  },
  {
   "cell_type": "markdown",
   "metadata": {},
   "source": [
    "Now we can see how the mean kinetic energy of each degree of freedom varies over time."
   ]
  },
  {
   "cell_type": "code",
   "execution_count": 4,
   "metadata": {},
   "outputs": [],
   "source": [
    "dt = 0.1\n",
    "\n",
    "replay_gen = sim.replay_by_time(dt)\n",
    "\n",
    "iterations = 0\n",
    "KE_v_x, KE_v_y, KE_w = [], [], []\n",
    "\n",
    "for state in replay_gen:\n",
    "    iterations += 1\n",
    "    \n",
    "    m = state['m']\n",
    "    I = state['I']\n",
    "    \n",
    "    cur_v_x, cur_v_y = state['v'].T\n",
    "    cur_w = state['w']\n",
    "    \n",
    "    KE_v_x.append(np.mean(m*cur_v_x**2)/2)\n",
    "    KE_v_y.append(np.mean(m*cur_v_y**2)/2)\n",
    "    KE_w.append(np.mean(I*cur_w**2)/2)\n",
    "\n",
    "KE_v_x = np.array(KE_v_x)\n",
    "KE_v_y = np.array(KE_v_y)\n",
    "KE_w = np.array(KE_w)"
   ]
  },
  {
   "cell_type": "code",
   "execution_count": 5,
   "metadata": {},
   "outputs": [],
   "source": [
    "t = np.linspace(0.0, (iterations-1)*dt, iterations)"
   ]
  },
  {
   "cell_type": "markdown",
   "metadata": {},
   "source": [
    "Now we can plot the result relative to the expected $\\frac{1}{2}k_B T$ (dashed line) and see the equipartition theorem holds."
   ]
  },
  {
   "cell_type": "code",
   "execution_count": 6,
   "metadata": {},
   "outputs": [
    {
     "data": {
      "image/png": "[encoded data removed]",
      "text/plain": [
       "<Figure size 432x288 with 1 Axes>"
      ]
     },
     "metadata": {
      "needs_background": "light"
     },
     "output_type": "display_data"
    }
   ],
   "source": [
    "plt.plot(t, KE_v_x / kB_T, label=\"Translational $x$\")\n",
    "plt.plot(t, KE_v_y / kB_T, label=\"Translational $y$\")\n",
    "plt.plot(t, KE_w / kB_T, label=\"Rotational\")\n",
    "\n",
    "# Plot the line corresponding to kB_T\n",
    "plt.plot([t[0], t[-1]], [0.5, 0.5], '--')\n",
    "\n",
    "\n",
    "plt.xlabel(\"$t$\")\n",
    "plt.ylabel(\"Energy (relative to $K_B T$)\")\n",
    "\n",
    "plt.legend()\n",
    "\n",
    "plt.tight_layout()\n",
    "plt.show()"
   ]
  },
  {
   "cell_type": "code",
   "execution_count": null,
   "metadata": {},
   "outputs": [],
   "source": []
  }
 ],
 "metadata": {
  "kernelspec": {
   "display_name": "Python 3",
   "language": "python",
   "name": "python3"
  },
  "language_info": {
   "codemirror_mode": {
    "name": "ipython",
    "version": 3
   },
   "file_extension": ".py",
   "mimetype": "text/x-python",
   "name": "python",
   "nbconvert_exporter": "python",
   "pygments_lexer": "ipython3",
   "version": "3.8.5"
  }
 },
 "nbformat": 4,
 "nbformat_minor": 5
}
